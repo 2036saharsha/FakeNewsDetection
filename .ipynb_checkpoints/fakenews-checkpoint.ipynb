{
 "cells": [
  {
   "cell_type": "code",
   "execution_count": null,
   "metadata": {},
   "outputs": [],
   "source": []
  }
 ],
 "metadata": {
  "kernelspec": {
   "display_name": "fakenews",
   "language": "python",
   "name": "python3"
  },
  "language_info": {
   "name": "python",
   "version": "3.10.6 (main, Nov 14 2022, 16:10:14) [GCC 11.3.0]"
  },
  "orig_nbformat": 4,
  "vscode": {
   "interpreter": {
    "hash": "e5316f4a3e71d3c13b4d33e0fabe3db43d4f4439a54bbbca89b3bd0881b5f237"
   }
  }
 },
 "nbformat": 4,
 "nbformat_minor": 2
}
